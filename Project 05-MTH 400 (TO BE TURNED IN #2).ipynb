{
 "cells": [
  {
   "cell_type": "markdown",
   "metadata": {},
   "source": [
    "## Project 5. Due Date: April 19 at 11:59 pm."
   ]
  },
  {
   "cell_type": "markdown",
   "metadata": {},
   "source": [
    "__Brief Honor Code.__ Do the project on your own. You may discuss ideas with your classmates, but DO NOT copy the solutions from someone else or the Internet. Any solution taken from internet will receive zero."
   ]
  },
  {
   "cell_type": "markdown",
   "metadata": {},
   "source": [
    "---"
   ]
  },
  {
   "cell_type": "markdown",
   "metadata": {},
   "source": [
    "## Question 1.\n",
    "\n",
    "### Background"
   ]
  },
  {
   "cell_type": "markdown",
   "metadata": {},
   "source": [
    "Edward Snowden is a computer professional who worked as a contractor for the NSA. In 2013, he provided a massive amount of classified information to journalists who later published articles in *The Guardian* and *The Washington Post*. The information leaked by Snowdon revealed the existence of many mass surveillance programs operated by the NSA and our allies. Charged with violating the Espionage Act of 1917 and the theft of government property, Snowden sought asylum in Russia, where he continues to live today. \n",
    "\n",
    "Snowden's actions remain deeply controversial; many see him as a traitor, while others see him as a patriot and a whistleblower. Whatever your perspective, Snowden has \"fueled debates over mass surveillance, government secrecy and the balance between national security and information privacy.\" (Wikipedia page on Edward Snowden, retrieved 08 OCT 2016) A documentary, _Citizenfour_, about Snowden and these issues won the 2015 Academy Award for Best Documentary Feature; Figure 1 is pulled from a screenshot from the film. In 2016 Oliver Stone released another biopic about Snowden.  "
   ]
  },
  {
   "cell_type": "markdown",
   "metadata": {},
   "source": [
    "<img src=\"img/Edward_Snowden-2.jpg\" alt=\"Drawing\" style=\"width: 220px;\"/>"
   ]
  },
  {
   "cell_type": "markdown",
   "metadata": {},
   "source": [
    "<center> Figure 1. Edward Snowden (Laura Poitras of Praxis Films) </center>"
   ]
  },
  {
   "cell_type": "markdown",
   "metadata": {},
   "source": [
    "One program run by the NSA involved getting meta-data on phone calls between individuals in the United States. This data didn't contain details of conversations but did help government agencies build a graph describing the network of relationships among persons of interest. A graph consists of a collection of vertices joined by edges connecting one vertex to another. For instance, each vertex might correspond to one of the 9/11 hijackers or their contacts, and edges between vertices might represent known associations between the terrorists and their accomplices. [Valdis Krebs](http://www.orgnet.com/hijackers.html) built such a graph, pictured in Figure 2. His paper, _Mapping Networks of Terrorist Cells_, describes some of the connections between the terrorists. His goal in the paper is to use the graph to identify the key members of the terrorist network. This kind of Social Network Analysis has been used to study a wide range of networks, including: economic networks, co-authorship networks in academia, networks of lobbyists, online social networks (e.g. Twitter or Facebook), and political networks. See http://www.orgnet.com/cases.html for details of these applications."
   ]
  },
  {
   "cell_type": "markdown",
   "metadata": {},
   "source": [
    "<img src=\"img/hijackers_graph_with_0_based_labels2.jpg\" alt=\"Drawing\" style=\"width: 600px;\"/>"
   ]
  },
  {
   "cell_type": "markdown",
   "metadata": {},
   "source": [
    "<center> Figure 2. A graph $G$ presenting the social network of the 9/11 hijackers (Krebs, http://www.orgnet.com/hijackers.html; the numerical labels are new). </center>"
   ]
  },
  {
   "cell_type": "markdown",
   "metadata": {},
   "source": [
    "Following Krebs, our goal in this assignment is to use several measures of centrality to identify the key members of the 9/11 terrorist network. First we need to associate a vertex with each conspirator. The numbered list of vertices and their associated conspirators is presented in the dictionary `names` in the code provided below. "
   ]
  },
  {
   "cell_type": "code",
   "execution_count": 32,
   "metadata": {},
   "outputs": [],
   "source": [
    "# Import numpy  \n",
    "import numpy as np\n",
    "\n",
    "# Define a dictionary that maps numbers to names\n",
    "# a * next to a name indicates that the person is suspected of using a false ID\n",
    "names = {\n",
    "    0: 'Mohamed Atta',\n",
    "    1: 'Nawaf Alhazmi',\n",
    "    2: 'Hani Hanjour',\n",
    "    3: 'Marwan Al-Shehhi',\n",
    "    4: 'Ziad Jarrah',\n",
    "    5: 'Mustafa al-Hisawi',\n",
    "    6: 'Salem Alhazmi*',\n",
    "    7: 'Lotfi Raissi',\n",
    "    8: 'Saeed Alghamdi*',\n",
    "    9: 'Abdul Aziz Al-Omari*',\n",
    "    10: 'Hamza Alghamdi',\n",
    "    11: 'Ramzi Bin al-Shibh',\n",
    "    12: 'Said Bahaji',\n",
    "    13: 'Ahmed Al Haznawi',\n",
    "    14: 'Zakariya Essabar',\n",
    "    15: 'Agus Budiman',\n",
    "    16: 'Khalid Al-Mihdhar',\n",
    "    17: 'Ahmed Alnami',\n",
    "    18: 'Mounir El Motassadeq',\n",
    "    19: 'Fayez Ahmed',\n",
    "    20: 'Mamoun Darkazanli',\n",
    "    21: 'Zacarias Moussaoui',\n",
    "    22: 'Ahmed Khalil Ibrahim Samir Al-Ani',\n",
    "    23: 'Abdussattar Shaikh',\n",
    "    24: 'Osama Awadallah',\n",
    "    25: 'Mohamed Abdi',\n",
    "    26: 'Rayed Mohammed Abdullah',\n",
    "    27: 'Bandar Alhazmi',\n",
    "    28: 'Faisal Al Salmi',\n",
    "    29: 'Mohand Alshehri*',\n",
    "    30: 'Majed Moqed',\n",
    "    31: 'Waleed Alshehri',\n",
    "    32: 'Nabil al-Marabh',\n",
    "    33: 'Raed Hijazi',\n",
    "    34: 'Ahmed Alghamdi',\n",
    "    35: 'Satam Suqami',\n",
    "    36: 'Wail Alshehri'\n",
    "}"
   ]
  },
  {
   "cell_type": "markdown",
   "metadata": {},
   "source": [
    "The code below produces the adjacency matrix of the graph $G$ in Figure 2, a $37\\times 37$ matrix $A$ with \n",
    "\n",
    "\\begin{equation*}\n",
    "A_{ij} = \\begin{cases}\n",
    "1 & \\text{if vertices $i$ and $j$ are connected by an edge},\\\\\n",
    "0 & \\text{otherwise}.\n",
    "\\end{cases}\n",
    "\\end{equation*}"
   ]
  },
  {
   "cell_type": "code",
   "execution_count": 33,
   "metadata": {},
   "outputs": [],
   "source": [
    "# Initialize matrix of zeros\n",
    "A = np.zeros([37,37])\n",
    "\n",
    "# Change entries to reflect edges\n",
    "A[0, [3, 9, 20, 14, 12, 11, 18, 21, 15, 22, 7, 4, 5, 2, 1]] = 1\n",
    "A[1, [0, 6, 2, 16, 24, 23, 25, 17, 10, 8]] = 1\n",
    "A[2, [1, 16, 30, 28, 27, 26, 7, 0, 4, 3]] = 1\n",
    "A[3, [19, 6, 2, 4, 7, 0, 15, 11, 18, 12, 14, 20, 9, 5]] = 1\n",
    "A[4, [13, 6, 2, 7, 15, 11, 0, 12, 14, 3]] = 1\n",
    "A[5, [19, 3, 0, 31]] = 1\n",
    "A[6, [1, 4, 3]] = 1\n",
    "A[7, [2, 26, 0, 3, 4]] = 1\n",
    "A[8, [32, 17, 10, 1, 13, 33]] = 1\n",
    "A[9, [3, 0, 31]] = 1\n",
    "A[10, [34, 17, 1, 13, 29, 8]] = 1\n",
    "A[11, [3, 0, 4, 15, 21, 18, 12, 14]] = 1\n",
    "A[12, [0, 11, 18, 20, 14, 3, 4]] = 1\n",
    "A[13, [8, 10, 4]] = 1\n",
    "A[14, [3, 4, 0, 11, 12]] = 1\n",
    "A[15, [4, 11, 3, 0]] = 1\n",
    "A[16, [23, 24, 2, 1]] = 1\n",
    "A[17, [1, 10, 8]] = 1\n",
    "A[18, [11, 12, 3, 0]] = 1\n",
    "A[19, [29, 3, 5]] = 1\n",
    "A[20, [3, 0, 12]] = 1\n",
    "A[21, [11, 0]] = 1\n",
    "A[22, [0]] = 1\n",
    "A[23, [24, 16, 1]] = 1\n",
    "A[24, [16, 1, 23]] = 1\n",
    "A[25, [1]] = 1\n",
    "A[26, [28, 27, 7, 2]] = 1\n",
    "A[27, [26, 2]] = 1\n",
    "A[28, [26, 2]] = 1\n",
    "A[29, [19, 10]] = 1\n",
    "A[30, [2]] = 1\n",
    "A[31, [35, 5, 9, 36]] = 1\n",
    "A[32, [34, 8, 33, 35]] = 1\n",
    "A[33, [32, 8, 35]] = 1\n",
    "A[34, [10, 32]] = 1\n",
    "A[35, [32, 33, 31, 36]] = 1\n",
    "A[36, [31, 35]] = 1"
   ]
  },
  {
   "cell_type": "markdown",
   "metadata": {},
   "source": [
    "The Python package NetworkX contains many tools to deal with graphs. After defining the adjacency matrix $A$, the following code defines the graph $G$ and obtains lists of the nodes and edges of the graph. "
   ]
  },
  {
   "cell_type": "code",
   "execution_count": 34,
   "metadata": {},
   "outputs": [
    {
     "name": "stdout",
     "output_type": "stream",
     "text": [
      "Nodes: [0, 1, 2, 3, 4, 5, 6, 7, 8, 9, 10, 11, 12, 13, 14, 15, 16, 17, 18, 19, 20, 21, 22, 23, 24, 25, 26, 27, 28, 29, 30, 31, 32, 33, 34, 35, 36]\n",
      "Edges: [(0, 1), (0, 2), (0, 3), (0, 4), (0, 5), (0, 7), (0, 9), (0, 11), (0, 12), (0, 14), (0, 15), (0, 18), (0, 20), (0, 21), (0, 22), (1, 2), (1, 6), (1, 8), (1, 10), (1, 16), (1, 17), (1, 23), (1, 24), (1, 25), (2, 3), (2, 4), (2, 7), (2, 16), (2, 26), (2, 27), (2, 28), (2, 30), (3, 4), (3, 5), (3, 6), (3, 7), (3, 9), (3, 11), (3, 12), (3, 14), (3, 15), (3, 18), (3, 19), (3, 20), (4, 6), (4, 7), (4, 11), (4, 12), (4, 13), (4, 14), (4, 15), (5, 19), (5, 31), (7, 26), (8, 10), (8, 13), (8, 17), (8, 32), (8, 33), (9, 31), (10, 13), (10, 17), (10, 29), (10, 34), (11, 12), (11, 14), (11, 15), (11, 18), (11, 21), (12, 14), (12, 18), (12, 20), (16, 23), (16, 24), (19, 29), (23, 24), (26, 27), (26, 28), (31, 35), (31, 36), (32, 33), (32, 34), (32, 35), (33, 35), (35, 36)]\n"
     ]
    }
   ],
   "source": [
    "# Import networkx\n",
    "import networkx as nx\n",
    "\n",
    "# Define graph G using adjacency matrix A\n",
    "G = nx.Graph(A)\n",
    "\n",
    "# Print nodes and edges\n",
    "print(f'Nodes: {G.nodes()}')\n",
    "print(f'Edges: {G.edges()}')"
   ]
  },
  {
   "cell_type": "markdown",
   "metadata": {},
   "source": [
    "### Degree centrality"
   ]
  },
  {
   "cell_type": "markdown",
   "metadata": {},
   "source": [
    "The _degree_ of a vertex is the number of edges incident to (i.e., that contain) the vertex. Since there are $N = 37$ nodes in the graph $G$ and no edges go from a vertex to the same vertex, each vertex can be connected to at most $N-1=36$ other vertices. It is common to divide the degree by the maximum possible degree to get a normalized degree value between 0 and 1 for each vertex; this helps mainly when comparing vertices in different graphs. This normalized degree value is called _degree centrality_.\n",
    "\n",
    "Ranking each conspirator by their degree centrality is the simplest way to determine influence. Those with the highest degree centrality have the most contacts and are potentially the most influential members of the network. The NetworkX method `degree_centrality(G)` returns a dictionary associating the degree centrality to each vertex in $G$. "
   ]
  },
  {
   "cell_type": "markdown",
   "metadata": {},
   "source": [
    "### Closeness centrality"
   ]
  },
  {
   "cell_type": "markdown",
   "metadata": {},
   "source": [
    "Closeness is another measure of influence in a graph $G$. Two vertices are distance $k$ apart if there is a path of $k$ edges linking the two vertices and no smaller path linking them. Two vertices that are not linked by a path are defined to be distance $\\infty$ away from each other. Denote the distance between vertices $u$ and $v$ by $d(u,v)$. The _closeness_ $c(v)$ of a vertex $v$ is defined to be the reciprocal of the sum of the distances from $v$ to each of the vertices: \n",
    "\n",
    "\\begin{equation*}\n",
    "c(v) = \\left[ \\sum_{u} d(u,v)\\right]^{-1}. \n",
    "\\end{equation*}\n",
    "\n",
    "It is common to replace the sum of the distances by the average distance. This amounts to multiplying the closeness by one less than the number of vertices to produce a number between 0 and 1. The _closeness centrality_ of a  vertex $v$ is\n",
    "\n",
    "\\begin{equation*}\n",
    "C(v) = (N-1)c(v).\n",
    "\\end{equation*}\n",
    "\n",
    "The closeness centrality can be used to determine influence in the graph; those conspirators with higher closeness centrality  are more closely related to the other conspirators and are able to spread information through the network quickly.  The NetworkX method `closeness_centrality(G)` returns a dictionary associating the closeness centrality to each vertex in $G$. "
   ]
  },
  {
   "cell_type": "markdown",
   "metadata": {},
   "source": [
    "### Betweenness centrality"
   ]
  },
  {
   "cell_type": "markdown",
   "metadata": {},
   "source": [
    "A third measure of influence, betweenness, was introduced by the sociologist Linton Freeman in 1977. The betweenness of a vertex $v$ is related to the number of shortest paths between all other pairs of vertices that pass through the vertex $v$. Specifically, the _betweenness_ $b(v)$ of a vertex $v$ is computed as \n",
    "\n",
    "\\begin{equation*}\n",
    "b(v) = \\sum \\frac{\\text{number of shortest paths between $s$ and $t$ that pass through $v$}}{\\text{number of shortest paths between $s$ and $t$}},\n",
    "\\end{equation*}\n",
    "\n",
    "where the sum is taken over all unordered pairs $\\{s,t\\}$ that don't include $v$. It is common to divide the betweenness $b(v)$ by the number of unordered pairs $\\binom{N-1}{2} = (N-1)(N-2)/2$ to produce a number between 0 and 1 to obtain the _betweenness centrality_ $B(v)$. Conspirators that have high betweenness centrality are influential in the sense that a high proportion of the closest relationships in the network are mediated through them. The NetworkX method `betweenness_centrality(G)` returns a dictionary associating the betweenness centrality to each vertex in $G$.  "
   ]
  },
  {
   "cell_type": "markdown",
   "metadata": {},
   "source": [
    "### PageRank"
   ]
  },
  {
   "cell_type": "markdown",
   "metadata": {},
   "source": [
    "A fourth measure of influence was developed by the founders of Google. Their algorithm, PageRank, ranks webpages based on the link structure of the web, but it applies more generally to any digraph. Like a graph, a digraph (directed graph) has vertices but now each edge also carries a direction, so each edge has a start vertex and an end vertex. Directed edges are often called arcs, and are usually represented by arrows. Given a graph, we can make it into a digraph by replacing each edge with two directed edges, going in opposite directions, so PageRank can be applied to graphs as well. \n",
    "\n",
    "To describe PageRank, imagine that each vertex is a website and the directed edges from a given vertex point to websites to which our start vertex links. A user randomly clicks on links moving about the web, as follows. If they are at a webpage, then with probability $d$ they click on a link from that webpage. Each link from our webpage is equally likely to be chosen. With probability $1-d$ the user selects any of the webpages in the network; again, each website is equally likely to be chosen. \n",
    "\n",
    "We've been describing how an individual user behaves but we'd really like to apply these rules to many users distributed across the network. Imagine that we start with a population distribution  $R^0 \\in [0,1]^N$ (Note: This requires that the sum of the entries in $R^0$ is 1) on a network with $N$ webpages so that $R^0_i$ equals the proportion of users initially on webpage $i$ (the exponent 0 indicates that we are at the starting point for an evolving system $R^t$). Now increase $t$ by 1 and allow each user to move to a new webpage, as described above.\n",
    "The expected new population distribution is given by $R^{t+1} =  M R^t,$ \n",
    "where $M$ is a matrix with \n",
    "\n",
    "\\begin{equation*}\n",
    "M_{ij} = \\left\\{ \\begin{array}{ll} \\frac{d}{L_j} + \\frac{1-d}{N}  & \\text{if page $j$ links to page $i$} \\\\ \\frac{1-d}{N} & \\text{otherwise} \\end{array} \\right.\n",
    "\\end{equation*}\n",
    "\n",
    "and $L_j$ is the number of outgoing links on page $j$. The matrix $M$ is called the modified adjacency matrix of $G$ with damping factor $d$. It will be convenient later to know an equivalent way to compute this matrix: \n",
    "\n",
    "\\begin{equation*}\n",
    "M = d(K^{-1}A)^T + \\frac{1-d}{N}E,\n",
    "\\end{equation*}\n",
    "\n",
    "where $K$ is the matrix with the outdegrees (number of edges emerging from a vertex) along the diagonal and $E$ is the $N\\times N$ matrix filled with 1's. It turns out that if $d>0$, then this process converges, to a particular vector $R$, independent of the initial distribution of users on the network. This is a consequence of the Perron-Frobenius Theorem on eigenvalues of (stochastic) matrices. We won't go into the details of that theorem. However, note that since the steady state vector $R$ must satisfy the equation $R = MR$, we see immediately that $R$ is an eigenvector of $M$ corresponding to eigenvalue 1. The Perron-Frobenius Theorem implies that there is a unique eigenvector of $M$ with eigenvalue 1 with 1-norm equal to 1 whose entries are all positive. This is good since the $i^\\text{th}$ entry $R_i$ of the unit eigenvector $R$ should be interpreted as the proportion of users that end up on webpage $i$ in the long run. The entries of this eigenvector rank the importance of each of the vertices in the network; higher entries correspond to more important vertices. (Note: This eigenvector has been called the 25 billion dollar eigenvector, the value of Google when it went public in 2004. For more details on the Pagerank algorithm, see [Bryant and Leise's paper](https://www.rose-hulman.edu/~bryan/googleFinalVersionFixed.pdf).\n",
    "\n",
    "The NetworkX method `pagerank(G, d)` returns a dictionary associating the PageRank value to each vertex in $G$.  "
   ]
  },
  {
   "cell_type": "markdown",
   "metadata": {},
   "source": [
    "Finding an eigenvector of a large matrix can be pretty difficult. So, how does NetworkX compute the PageRank? The Perron-Frobenius Theorem ensures that the matrix $M$ has a simple maximum eigenvalue (the number 1 appears as a root of the characteristic polynomial with multiplicity 1) and all other eigenvalues have 2-norm strictly less than 1. If we decompose a random vector $v$ into its projection onto the eigenspaces then $M$ acts by leaving the component in the 1-eigenspace alone but shrinks each other component (multiplies those components by $\\lambda$ with $\\| \\lambda \\|_2 < 1$). It follows that $M^tv$ converges to a vector whose normalization is $R$. In practice, this is the method used to compute the principal eigenvector $R$; we keep multiplying by $M$ (and normalizing, dividing by $\\| v \\|_1$ so that the vector remains a probability distribution) until the 2-norm of the difference between successive approximations is less than a given tolerance $\\epsilon$. Though this does not guarantee that the vector $v$ is within $\\epsilon$ of the limiting value $R$, in practice $v$ will tend to be close to $R$. You'll implement this method in the assignment to check that the NetworkX method `pagerank(G,d)` gives a reasonable value. "
   ]
  },
  {
   "cell_type": "markdown",
   "metadata": {},
   "source": [
    "There are many more measures of centrality and influence in graphs, but the degree centrality, closeness centrality, betweenness centrality, and PageRank measures will work for our purposes. Your goal in the assignment will be to produce four ranked lists of the most influential conspirators using these four measures. "
   ]
  },
  {
   "cell_type": "markdown",
   "metadata": {},
   "source": [
    "---"
   ]
  },
  {
   "cell_type": "markdown",
   "metadata": {},
   "source": [
    "## Your Assignment for Question 1"
   ]
  },
  {
   "cell_type": "markdown",
   "metadata": {},
   "source": [
    "### Part 0"
   ]
  },
  {
   "cell_type": "markdown",
   "metadata": {},
   "source": [
    "One of the learning goals of this project is to have you gain some experience with navigating documentation. You may need to use parts of NetworkX and NumPy that we did not explicitly cover in class. You should refer to the [NetworkX documentation](https://networkx.github.io/documentation/stable/) and the [NumPy documentation](https://numpy.org/devdocs/) throughout this assignment."
   ]
  },
  {
   "cell_type": "markdown",
   "metadata": {},
   "source": [
    "### Part 1"
   ]
  },
  {
   "cell_type": "markdown",
   "metadata": {},
   "source": [
    "(3 points) Using the code given above that defined the adjacency matrix `A` and the graph $G$, print a statement to the screen counting the number of _undirected_ edges in `A`; that is, the edges $(s,t)$ and $(t,s)$ are considered the same and should only be counted once.\n",
    "\n",
    "_Hint._ Read the NetworkX documentation to find a method that might be helpful here."
   ]
  },
  {
   "cell_type": "code",
   "execution_count": 35,
   "metadata": {},
   "outputs": [
    {
     "name": "stdout",
     "output_type": "stream",
     "text": [
      "The number of undirected edges of A: 85\n"
     ]
    }
   ],
   "source": [
    "# the graph G is not a directed graph--so all the edges are undirected\n",
    "# thus, it suffices to simply measure the length of a list of G's edges\n",
    "edges_list = list(G.edges())\n",
    "print(f'The number of undirected edges of A: {len(edges_list)}')"
   ]
  },
  {
   "cell_type": "markdown",
   "metadata": {},
   "source": [
    "### Part 2"
   ]
  },
  {
   "cell_type": "markdown",
   "metadata": {},
   "source": [
    "(8 points) Compute the degree centrality measures for the graph. Print the names and the degree centrality (just report 3 decimal places) of the five most influential terrorists to the screen. \n",
    "\n",
    "_Hint._ You might consider using the code\n",
    "\n",
    "```\n",
    "idx = np.array(measure_list).argsort()[::-1]\n",
    "``` \n",
    "\n",
    "which sets `idx` to an array of indices so that `measure_list[idx[0]]` returns the largest element of `measure_list`, `measure_list[idx[1]]` returns the next largest element of `measure_list`, etc."
   ]
  },
  {
   "cell_type": "code",
   "execution_count": 36,
   "metadata": {},
   "outputs": [
    {
     "name": "stdout",
     "output_type": "stream",
     "text": [
      "Mohamed Atta with a degree centrality of 0.417\n",
      "Marwan Al-Shehhi with a degree centrality of 0.389\n",
      "Nawaf Alhazmi with a degree centrality of 0.278\n"
     ]
    }
   ],
   "source": [
    "degree_cent_dict = nx.degree_centrality(G)\n",
    "degree_cent_list = list(degree_cent_dict.values())\n",
    "idx = np.array(degree_cent_list).argsort()[::-1]\n",
    "for i in range(0,3):\n",
    "    print(f'{names[idx[i]]} with a degree centrality of {round(degree_cent_list[idx[i]], 3)}')"
   ]
  },
  {
   "cell_type": "markdown",
   "metadata": {},
   "source": [
    "### Part 3"
   ]
  },
  {
   "cell_type": "markdown",
   "metadata": {},
   "source": [
    "(8 points) Compute the closeness centrality measures for the graph. Print the names and the closeness centrality of the five most influential terrorists to the screen. "
   ]
  },
  {
   "cell_type": "code",
   "execution_count": 37,
   "metadata": {},
   "outputs": [
    {
     "name": "stdout",
     "output_type": "stream",
     "text": [
      "Mohamed Atta with a closeness centrality of 0.417\n",
      "Nawaf Alhazmi with a closeness centrality of 0.278\n",
      "Hani Hanjour with a closeness centrality of 0.278\n"
     ]
    }
   ],
   "source": [
    "closeness_cent_dict = nx.closeness_centrality(G)\n",
    "closeness_cent_list = list(closeness_cent_dict.values())\n",
    "idx2 = np.array(closeness_cent_list).argsort()[::-1]\n",
    "for i in range(0,3):\n",
    "    print(f'{names[idx2[i]]} with a closeness centrality of {round(degree_cent_list[idx2[i]], 3)}')"
   ]
  },
  {
   "cell_type": "markdown",
   "metadata": {},
   "source": [
    "### Part 4"
   ]
  },
  {
   "cell_type": "markdown",
   "metadata": {},
   "source": [
    "(5 points) Computing closeness centrality requires us to compute the distance between every pair of vertices. Compute the (shortest) distance between the vertex for Khalid Al-Mihdhar and the vertex for Zacarias Moussaoui. Print this distance and a shortest path (using names rather than vertex numbers) to the screen. Is there more than one such path? If so, print another to the screen. If not, print a statement to the screen that there is a unique path."
   ]
  },
  {
   "cell_type": "code",
   "execution_count": 38,
   "metadata": {},
   "outputs": [
    {
     "name": "stdout",
     "output_type": "stream",
     "text": [
      "A shortest path between Khalid Al-Mihdhar and Zacarias Moussaoui is Khalid Al-Mihdhar - Nawaf Alhazmi - Mohamed Atta - Zacarias Moussaoui with a length of 3\n",
      "Khalid Al-Mihdhar - Hani Hanjour - Mohamed Atta - Zacarias Moussaoui\n"
     ]
    }
   ],
   "source": [
    "dict_with_name_keys = {}\n",
    "for key, value in names.items():\n",
    "    dict_with_name_keys[value] = key\n",
    "\n",
    "short_path = nx.shortest_path(G, source = dict_with_name_keys[\"Khalid Al-Mihdhar\"], target = dict_with_name_keys[\"Zacarias Moussaoui\"])\n",
    "name_path = []\n",
    "for i in short_path:\n",
    "    name_path.append(names[i])\n",
    "name_path_str = \" - \".join(name_path)\n",
    "\n",
    "short_path_length = nx.shortest_path_length(G, source = dict_with_name_keys[\"Khalid Al-Mihdhar\"], target = dict_with_name_keys[\"Zacarias Moussaoui\"])\n",
    "\n",
    "print(f'A shortest path between Khalid Al-Mihdhar and Zacarias Moussaoui is {name_path_str} with a length of {short_path_length}')\n",
    "\n",
    "paths = list(nx.all_shortest_paths(G, source = dict_with_name_keys[\"Khalid Al-Mihdhar\"], target = dict_with_name_keys[\"Zacarias Moussaoui\"]))\n",
    "if len(paths) > 1:\n",
    "    for i in range(1, len(paths)):\n",
    "        name_paths = []\n",
    "        for j in paths[i]:\n",
    "            name_paths.append(names[j])\n",
    "        print(\" - \".join(name_paths))        \n",
    "else:\n",
    "    print(\"No other shortest paths\")\n",
    "    "
   ]
  },
  {
   "cell_type": "markdown",
   "metadata": {},
   "source": [
    "## Part 5"
   ]
  },
  {
   "cell_type": "markdown",
   "metadata": {},
   "source": [
    "(8 points) Compute the betweenness centrality measures for the graph. Print the names and the betweenness centrality of the five most influential terrorists to the screen. "
   ]
  },
  {
   "cell_type": "code",
   "execution_count": 39,
   "metadata": {},
   "outputs": [
    {
     "name": "stdout",
     "output_type": "stream",
     "text": [
      "Nawaf Alhazmi with a betweenness centrality of 0.318\n",
      "Mohamed Atta with a betweenness centrality of 0.334\n",
      "Hani Hanjour with a betweenness centrality of 0.227\n"
     ]
    }
   ],
   "source": [
    "betweenness_cent_dict = nx.betweenness_centrality(G)\n",
    "betweenness_cent_list = list(betweenness_cent_dict.values())\n",
    "idx3 = np.array(betweenness_cent_list).argsort()[::-1]\n",
    "for i in range(0,3):\n",
    "    print(f'{names[idx3[i]]} with a betweenness centrality of {round(betweenness_cent_list[idx2[i]], 3)}')"
   ]
  },
  {
   "cell_type": "markdown",
   "metadata": {},
   "source": [
    "## Part 6"
   ]
  },
  {
   "cell_type": "markdown",
   "metadata": {},
   "source": [
    "(8 points) Compute the PageRank measures for the graph (use the default value $d = 0.85$). Print the names and the PageRank of the five most influential terrorists to the screen. "
   ]
  },
  {
   "cell_type": "code",
   "execution_count": 40,
   "metadata": {},
   "outputs": [
    {
     "name": "stdout",
     "output_type": "stream",
     "text": [
      "Mohamed Atta with a page rank of 0.076\n",
      "Marwan Al-Shehhi with a page rank of 0.069\n",
      "Nawaf Alhazmi with a page rank of 0.059\n"
     ]
    }
   ],
   "source": [
    "pagerank_dict = nx.pagerank(G, alpha = 0.85)\n",
    "pagerank_list = [pagerank_dict[i] for i in range(37)]\n",
    "idx4 = np.array(pagerank_list).argsort()[::-1]\n",
    "for i in range(0,3):\n",
    "    print(f'{names[idx4[i]]} with a page rank of {round(pagerank_list[idx4[i]], 3)}')"
   ]
  },
  {
   "cell_type": "markdown",
   "metadata": {},
   "source": [
    "## Part 7"
   ]
  },
  {
   "cell_type": "markdown",
   "metadata": {},
   "source": [
    "_The note in Part 0 especially applies to this part!_"
   ]
  },
  {
   "cell_type": "markdown",
   "metadata": {},
   "source": [
    "(15 points) Create the modified adjacency matrix $M$ for the graph (use the default value $d = 0.85$). Make a random vector $v$ in $[0,1]^{37}$, normalize $v$ with its 1-norm, and print it to the screen. \n",
    "\n",
    "Iteratively set $v = M v$ and normalize $v$ with its 1-norm. Stop when the 2-norm of the difference between successive $v$ vectors is less than $\\epsilon = 1 \\times 10^{-6}$. Print the number of iterations required and the final vector $v$ to the screen. \n",
    "\n",
    "Compute the 2-norm of the difference between the vector $v$ and the vector output by PageRank is less than $\\epsilon$. You should find this difference to be small. Print the difference to the screen. \n",
    "\n",
    "Be careful: we're using both 2-norms and 1-norms here. You need to use the correct norm in the correct places."
   ]
  },
  {
   "cell_type": "code",
   "execution_count": 41,
   "metadata": {},
   "outputs": [
    {
     "name": "stdout",
     "output_type": "stream",
     "text": [
      "The initial normalized vector: [4.30990e-02 3.81622e-02 2.98902e-02 5.55362e-02 9.10930e-03 4.55261e-02\n",
      " 3.16140e-02 4.31565e-02 5.44317e-02 4.31311e-02 1.68740e-02 3.68090e-03\n",
      " 2.82776e-02 2.60674e-02 2.16440e-02 7.72370e-03 5.03680e-03 1.39331e-02\n",
      " 4.00040e-03 2.33231e-02 3.03341e-02 1.31380e-02 5.97705e-02 4.30110e-03\n",
      " 5.09016e-02 4.09932e-02 9.80260e-03 2.08399e-02 5.24850e-02 4.87914e-02\n",
      " 8.32000e-05 2.59876e-02 1.87385e-02 2.67433e-02 1.34461e-02 3.68556e-02\n",
      " 2.57110e-03]\n",
      "\n",
      "The final vector, v: [0.0758755 0.059062  0.0569833 0.069073  0.0494061 0.023916  0.0174675\n",
      " 0.027052  0.0375659 0.0183226 0.0383875 0.0394126 0.0343845 0.0190137\n",
      " 0.0251097 0.0209344 0.0253529 0.0198345 0.0209102 0.0197413 0.0167226\n",
      " 0.0125412 0.0083536 0.0201793 0.0201793 0.0090743 0.0257018 0.0143592\n",
      " 0.0143592 0.0150857 0.0088976 0.0271776 0.028108  0.0214349 0.0154653\n",
      " 0.0286396 0.0159153]\n",
      "Number of iterations required: 29\n",
      "The norm of the difference between the page rank vector as produced by Python and the vector v: 1.4611675280630177e-05\n"
     ]
    }
   ],
   "source": [
    "# import necessary libraries\n",
    "import numpy as np\n",
    "import networkx as nx\n",
    "# define the damping vector\n",
    "d = 0.85\n",
    "# define a variable threshhold equal to the \"stopping point\" of the iterations (i.e. when the new v - old v has a 2-norm of less than the threshold, the loop stops\n",
    "e = 1e-6\n",
    "N = G.number_of_nodes()\n",
    "# create matrix K with diagonal entries equal to outdegrees--the list of outdegrees can be obtained by summing the columns of the adj matrix\n",
    "out_degrees = [sum(A[:,i]) for i in range(N)]\n",
    "K = np.diag(out_degrees)\n",
    "# define E as the N by N matrix of ones\n",
    "E = np.ones([N, N])\n",
    "# define the modified adjacency matrix\n",
    "M = d * (np.linalg.inv(K) @ A).transpose() + ((1 - d) / N) * E\n",
    "# make a random vector of nums between 1 and 0 of size 37\n",
    "v = np.random.rand(N)\n",
    "\n",
    "# normalize v with its 1-norm\n",
    "v = np.round(v / (np.linalg.norm(v, ord=1)), 7)\n",
    "\n",
    "# print the normalized vector\n",
    "print(f'The initial normalized vector: {v}')\n",
    "\n",
    "# iteratively set v = Mv and normalize v w/ its 1-norm, stopping when the difference between new v and old v has a two norm of less than threshold\n",
    "error = float(\"inf\")\n",
    "\n",
    "iteration = 0\n",
    "\n",
    "while(error > e):\n",
    "    iteration += 1\n",
    "    old_v = v\n",
    "    v = M @ v\n",
    "    v = v / np.linalg.norm(v, ord=1) \n",
    "    error = np.linalg.norm(v - old_v, ord=2)\n",
    "\n",
    "print()\n",
    "v = np.round(v, 7)\n",
    "print(f'The final vector, v: {v}')\n",
    "print(f'Number of iterations required: {iteration}')\n",
    "\n",
    "PR_nparray = np.array(pagerank_list)\n",
    "norm_diff = np.linalg.norm(v-PR_nparray, ord=2)\n",
    "print(f'The norm of the difference between the page rank vector as produced by Python and the vector v: {norm_diff}')"
   ]
  },
  {
   "cell_type": "markdown",
   "metadata": {},
   "source": [
    "## Question 2\n",
    "\n",
    "__(a)__ A drunk bear called Randi is standing on the origin in $\\mathbb{R}$. At each\n",
    "time step, he goes $1$ unit to the left with probability $p = 0.5$ and $1$ unit to the right\n",
    "with probability $1 − p = 0.5$. Say each random walk is of length $M = 5000$ (at which\n",
    "point Randi collapses to the ground). An example of simulation of Randi’s walk would be\n",
    "$[1,0,1,2,1,0,-1,-2,...,-3]$.\n",
    "\n",
    "  (20 points) Make a numpy array of shape (1000, 5000), called it `simulation_data`, that stores the result of 1000 simulated random walks.\n",
    "Let $r_M$ be the ratio of walks where, at any point during the walk, Randi returned\n",
    "to the origin. To calculate $r_M$, you need to find the number of times Randi returned to the origin for each $M = 1, \\ldots, 5000$ and then divide it by $1000$. Plot a graph of $r_M$ as a function of $M$.  Does your graph confirm Polya' theorem we discussed in class? Explain your answer. "
   ]
  },
  {
   "cell_type": "code",
   "execution_count": 3,
   "metadata": {},
   "outputs": [
    {
     "data": {
      "image/png": "[encoded data removed]",
      "text/plain": [
       "<Figure size 640x480 with 1 Axes>"
      ]
     },
     "metadata": {},
     "output_type": "display_data"
    }
   ],
   "source": [
    "import matplotlib.pyplot as plt\n",
    "import numpy as np\n",
    "import random as rand\n",
    "def rand_walk(trials, num_steps):\n",
    "    random_walk = np.zeros([trials, num_steps])    \n",
    "    for i in range(trials):\n",
    "        random_walk[i,:] = np.cumsum(np.random.choice([-1.0, 1.0], size = num_steps, p = [0.5, 0.5]))    \n",
    "    with_zero = 0\n",
    "    for l in range(np.shape(random_walk)[0]):\n",
    "        for m in range(np.shape(random_walk)[1]):\n",
    "            if random_walk[l][m] == 0:\n",
    "                with_zero += 1\n",
    "                break \n",
    "    r_M = with_zero / trials\n",
    "    return r_M\n",
    "\n",
    "\n",
    "M_list = [i for i in range(0,1000)] \n",
    "r_M_list = [rand_walk(1000, i) for i in M_list]\n",
    "#print(M_list)\n",
    "#print(r_M_list)\n",
    "\n",
    "\n",
    "fig = plt.figure()\n",
    "ax = fig.add_subplot(1, 1, 1)\n",
    "ax.set_title('Relationship of rM and M')\n",
    "ax.set_xlabel('M = number of steps')\n",
    "ax.set_ylabel('rM = the proportion of walks where Randi returned to the origin')\n",
    "ax.plot(M_list, r_M_list, linewidth = 2)\n",
    "plt.show()"
   ]
  },
  {
   "cell_type": "markdown",
   "metadata": {},
   "source": [
    "This result does support Polya's recurrence theorem--as it demonstrates that the larger the random walk becomes (i.e. the more steps the walk consists of, and the closer the walk is to infinity) the closer the number of random walks in which the walker returns to the origin divided by the total number of random walks gets to 1. So as the number of steps approaches infinity, the ratio of walks that return to the origin expressed as a proportion of the total walks should become 1--i.e. an infinite random walk will return to the origin with probability 1, supporting Polya's recurrence theorem."
   ]
  },
  {
   "cell_type": "markdown",
   "metadata": {},
   "source": [
    "__(b)__ (20 points) Imagine Randi is on a grid, at position $(0, 0)$. At each time step, Randi goes, with\n",
    "equal probability, up, down, left or right (up means $y$ increases by $1$ and right means\n",
    "$x$ increases by $1$). Simulate $1000$ random walks of length $M = 5000$\n",
    "in this 2-dimensional grid, and count the number of 2-dimensional random walks of\n",
    "Randi that end up with him going back to the origin at some point. Then plot $r_M$, defined as part (a), \n",
    "as a function of $M$. Don’t fill a giant numpy array with every simulation like you did\n",
    "in the last homework (uses too much memory; instead, generate random walks one by\n",
    "one and store only the information you need).\n",
    "\n",
    "__If you don't implement this problem properly, the execution time for this part can be more than an hour. A proper approach will help you get the result in less than a few minutes. The efficiency of your script will be taken into while grading this part.__"
   ]
  },
  {
   "cell_type": "code",
   "execution_count": 10,
   "metadata": {},
   "outputs": [
    {
     "data": {
      "text/plain": [
       "0.71"
      ]
     },
     "execution_count": 10,
     "metadata": {},
     "output_type": "execute_result"
    }
   ],
   "source": [
    "from random import choice\n",
    "def twod_rand_walk(trials, steps):\n",
    "    origin_walks = 0\n",
    "    for i in range(trials):\n",
    "        flag = 0\n",
    "        x,y = 0, 0\n",
    "        x_list, y_list = [], []\n",
    "        for j in range(steps):\n",
    "            delta_x, delta_y = choice([(0, 1), (0, -1), (1, 0), (-1, 0)])\n",
    "            x, y = x + delta_x, y + delta_y\n",
    "            x_list.append(x)\n",
    "            y_list.append(y)\n",
    "            if x == 0 and y == 0 and flag != 1:\n",
    "                origin_walks += 1\n",
    "                flag = 1  # ensures walks w a return to origin are not counted more than once  \n",
    "    r_M2 = origin_walks / trials\n",
    "    return r_M2\n",
    "twod_rand_walk(1000, 5000)"
   ]
  },
  {
   "cell_type": "code",
   "execution_count": 14,
   "metadata": {},
   "outputs": [
    {
     "data": {
      "image/png": "[encoded data removed]",
      "text/plain": [
       "<Figure size 640x480 with 1 Axes>"
      ]
     },
     "metadata": {},
     "output_type": "display_data"
    }
   ],
   "source": [
    "M2_list = [i for i in range(0,1000)] \n",
    "r_M2_list = [twod_rand_walk(1000, i) for i in M2_list]\n",
    "#print(M_list)\n",
    "#print(r_M_list)\n",
    "\n",
    "\n",
    "fig = plt.figure()\n",
    "ax = fig.add_subplot(1, 1, 1)\n",
    "ax.set_title('Relationship of rM and M')\n",
    "ax.set_xlabel('M = number of steps')\n",
    "ax.set_ylabel('rM')\n",
    "ax.plot(M2_list, r_M2_list, linewidth = 2)\n",
    "ax.set_yticks(np.arange(0,1.1,0.1))\n",
    "plt.show()"
   ]
  },
  {
   "cell_type": "markdown",
   "metadata": {},
   "source": [
    "---"
   ]
  },
  {
   "cell_type": "markdown",
   "metadata": {},
   "source": [
    "## When you're finished"
   ]
  },
  {
   "cell_type": "markdown",
   "metadata": {},
   "source": [
    "- Make sure your notebook runs from top to bottom with no errors. One way to accomplish this is to click on __Kernel &#8594; Restart & Run All__. This will restart Python, and run your notebook from top to bottom."
   ]
  }
 ],
 "metadata": {
  "kernelspec": {
   "display_name": "Python 3 (ipykernel)",
   "language": "python",
   "name": "python3"
  },
  "language_info": {
   "codemirror_mode": {
    "name": "ipython",
    "version": 3
   },
   "file_extension": ".py",
   "mimetype": "text/x-python",
   "name": "python",
   "nbconvert_exporter": "python",
   "pygments_lexer": "ipython3",
   "version": "3.11.7"
  }
 },
 "nbformat": 4,
 "nbformat_minor": 4
}
