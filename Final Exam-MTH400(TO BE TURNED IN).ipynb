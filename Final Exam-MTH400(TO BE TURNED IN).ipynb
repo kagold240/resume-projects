{
 "cells": [
  {
   "cell_type": "markdown",
   "id": "1e2f306b",
   "metadata": {},
   "source": [
    "## Final Exam- MTH 400, Spring 2024"
   ]
  },
  {
   "cell_type": "code",
   "execution_count": 26,
   "id": "7dcca379",
   "metadata": {},
   "outputs": [],
   "source": [
    "import numpy as np\n",
    "import matplotlib.pyplot as plt"
   ]
  },
  {
   "cell_type": "markdown",
   "id": "f4f1171c",
   "metadata": {},
   "source": [
    "**Question 1** (25 points)  Write a Python class that  for a square matrix determine (1) whether or not a given number is an eigenvalue of this matrix; (2) if the answer is positive, it prints all eigenvectors corresponding to this eigenvalue. "
   ]
  },
  {
   "cell_type": "code",
   "execution_count": 81,
   "id": "127d699c",
   "metadata": {},
   "outputs": [],
   "source": [
    "# import necessary library\n",
    "import numpy as np\n",
    "\n",
    "# define class eigen_square\n",
    "class eigen_square:\n",
    "\n",
    "    #define the function __init__ for the class\n",
    "    def __init__(self, object):\n",
    "        self.object = object\n",
    "\n",
    "    # define the function eigen_print which will determine if the given eigen value is an eigenvalue of the matrix and print it if so\n",
    "    def eigen_print(self, e_val):\n",
    "        if e_val < 0:\n",
    "            print(\"Number given not positive.\")\n",
    "        else:\n",
    "            e_val_list, e_vec = np.linalg.eig(self.object)\n",
    "            counter = 0\n",
    "            for item in e_val_list:\n",
    "                if abs(item - e_val) < 0.1:\n",
    "                    print(e_vec[:, e_val_list == item])\n",
    "                else:\n",
    "                    counter += 1\n",
    "            if counter == e_val_list.shape[0]:\n",
    "                print(\"The number given is not an eigenvalue\")\n",
    "                \n",
    "\n",
    "        \n",
    "        \n",
    "            "
   ]
  },
  {
   "cell_type": "code",
   "execution_count": 90,
   "id": "79b93f8d",
   "metadata": {},
   "outputs": [
    {
     "name": "stdout",
     "output_type": "stream",
     "text": [
      "[[0.]\n",
      " [1.]\n",
      " [0.]\n",
      " [0.]]\n"
     ]
    },
    {
     "data": {
      "text/plain": [
       "array([[0.],\n",
       "       [1.],\n",
       "       [0.],\n",
       "       [0.]])"
      ]
     },
     "execution_count": 90,
     "metadata": {},
     "output_type": "execute_result"
    }
   ],
   "source": [
    "# initialize a matrix M to call the class on\n",
    "M = np.array([[5, 0, 0, 0],\n",
    "              [0, 4, 0, 0],\n",
    "              [0, 0, 3, 0],\n",
    "              [0, 0, 0, 2]])\n",
    "\n",
    "# use class eigen_square's method eigen_print to find the eigenvector corresponding to an eigenvalue of 4\n",
    "square = eigen_square(M)\n",
    "eigen_square.eigen_print(square,4)\n",
    "\n",
    "# Check that the eigenvector found using eigen_print is correct\n",
    "e_val, e_vec = np.linalg.eig(M)\n",
    "e_vec[:, e_val == 4]"
   ]
  },
  {
   "cell_type": "markdown",
   "id": "7c753a11",
   "metadata": {},
   "source": [
    "**Question 2** (25 points) Write a Pyhton code that will find the minimum of the function \n",
    "$$\n",
    "f(x,y)= 4x^2+2xy+2y^2,\n",
    "$$\n",
    "using gradient descent.\n",
    "You should begin from $(x_0,y_0) = (1,100)$ and use the stepsize of $\\alpha = 0.01$. Your code should print the minimum value it finds. Use Stopping criterion of $\\|\\nabla f(x_k,y_k)\\|<\\epsilon$ with $\\epsilon =10^{-5}$. Plot the values of $f$ for the sequence you construct using this method."
   ]
  },
  {
   "cell_type": "code",
   "execution_count": 27,
   "id": "520c7641",
   "metadata": {},
   "outputs": [
    {
     "name": "stdout",
     "output_type": "stream",
     "text": [
      "The function has a minimum of 1.5098820285229284e-11 at the point (-1.1808339171611943e-06, 2.8507852577207404e-06)\n",
      "\n",
      "The f values for the sequence constructed are graphed below\n"
     ]
    },
    {
     "data": {
      "text/plain": [
       "[<matplotlib.lines.Line2D at 0x1292a3290>]"
      ]
     },
     "execution_count": 27,
     "metadata": {},
     "output_type": "execute_result"
    },
    {
     "data": {
      "image/png": "[encoded data removed]",
      "text/plain": [
       "<Figure size 640x480 with 1 Axes>"
      ]
     },
     "metadata": {},
     "output_type": "display_data"
    }
   ],
   "source": [
    "# import necessary libraries\n",
    "import matplotlib.pyplot as plt\n",
    "import numpy as np\n",
    "\n",
    "# initialize the functions f and the functions defining its partial derivatives\n",
    "f = lambda x, y: (4 * (x ** 2)) + (2 * x * y) + (2 * (y ** 2))\n",
    "partial_fx = lambda x, y: (8 * x) + (2 * y) \n",
    "partial_fy = lambda x, y: (2 * x) + (4 * y)\n",
    "\n",
    "\n",
    "# create a function grad_desc to perform the gradient descent method given a function, its partial derivatives, starting point, stepsize, and stopping criteria\n",
    "def grad_desc(x, y, f, partial_fx, partial_fy, stepsize, tol):\n",
    "    # make empty lists to hold intermediate x values, y values, and f values\n",
    "    x_vals = []\n",
    "    y_vals = []\n",
    "    f_vals = [f(x,y)]\n",
    "    \n",
    "    # define the gradient at the initial point\n",
    "    grad = np.array([partial_fx(x,y), partial_fy(x,y)])\n",
    "\n",
    "\n",
    "    # create while loop to perform grad descent until stopping criteria has been fulfilled\n",
    "    while np.linalg.norm(grad, ord = 2) >= tol:\n",
    "        # define dx, dy for calculations\n",
    "        dx = partial_fx(x,y)\n",
    "        dy = partial_fy(x,y)\n",
    "        \n",
    "        # modify x and y\n",
    "        x = x - (dx * stepsize)\n",
    "        y = y - (dy * stepsize)\n",
    "        \n",
    "        # add modified x and y values to the list of x values and the list of y values\n",
    "        x_vals.append(x)\n",
    "        y_vals.append(y)\n",
    "        \n",
    "        # calculate f(x,y) at the point given by the new x and y vals and add this f value to the list of f values\n",
    "        fx = f(x, y)\n",
    "        f_vals.append(fx)\n",
    "        \n",
    "        # define the gradient again at the new point\n",
    "        grad = np.array([partial_fx(x,y), partial_fy(x,y)])\n",
    "    \n",
    "    return fx, x, y, f_vals\n",
    "\n",
    "# set the initial point equal to (1, 100)\n",
    "x = 1\n",
    "y = 100\n",
    "\n",
    "# set the stepsize equal to 0.01\n",
    "stepsize = 0.01\n",
    "\n",
    "# set the tolerance equal to 10^-5\n",
    "tol = 1e-5\n",
    "\n",
    "# use the grad_desc method\n",
    "fx, x, y, f_vals = grad_desc(x, y, f, partial_fx, partial_fy, stepsize, tol)\n",
    "\n",
    "# print the minimum of the function and the point at which it occurs\n",
    "print(f'The function has a minimum of {fx} at the point ({x}, {y})')\n",
    "\n",
    "# print empty line to prevent clutter\n",
    "print(\"\")\n",
    "\n",
    "# plot the f_vals generated by performing gradient descent\n",
    "print(\"The f values for the sequence constructed are graphed below\")\n",
    "plt.plot(f_vals)\n"
   ]
  },
  {
   "cell_type": "markdown",
   "id": "53bcece7",
   "metadata": {},
   "source": [
    "**Question 3** (25 points) Consider the graph below:\n",
    "\n",
    "<img src=\"markov.png\" style=\"width: 400px; height: 300px;\">\n",
    "\n",
    "\n",
    "- Is this an absorbing Markov chain? Why?\n",
    "\n",
    "- Write a Python script to answer  this  question: Starting from from any state in $ \\{ B,C,D\\}$ what  is the probability of hitting  $E$ in any number of steps?\n"
   ]
  },
  {
   "cell_type": "markdown",
   "id": "b71008eb-714f-497f-8ce1-f6dfba44b549",
   "metadata": {},
   "source": [
    "Yes, this is an absorbing Markov chain because there are two nodes which have no outgoing links--only incoming links. So once these states are entered, they cannot be exited, meaning they are absorbent states. Thus this Markov chain is an absorbing Markov Chain."
   ]
  },
  {
   "cell_type": "code",
   "execution_count": 28,
   "id": "4b7a78f0",
   "metadata": {},
   "outputs": [
    {
     "data": {
      "text/plain": [
       "array([[0.5],\n",
       "       [1. ],\n",
       "       [1. ]])"
      ]
     },
     "execution_count": 28,
     "metadata": {},
     "output_type": "execute_result"
    }
   ],
   "source": [
    "# node A = node 0, node B = node 1, node C = node 2, node D = node 3, node E = node 4\n",
    "\n",
    "# create the transition matrix P\n",
    "P = np.array([[1, 0, 0, 0, 0],\n",
    "              [0.5, 0, 0, 0.5, 0],\n",
    "              [0, 0, 0, 0.5, 0.5],\n",
    "              [0, 0, 0.5, 0, 0.5],\n",
    "              [0, 0, 0, 0, 1]])\n",
    "\n",
    "# set B equal to the states from which we want to start i.e. state 1 (B), state 2 (C), and state 3 (D)\n",
    "B = range(1, 4)\n",
    "\n",
    "# set A equal to the state which we are trying to hit i.e. state 4 (E)\n",
    "A = [4]\n",
    "\n",
    "# find PBB by selecting a portion of the transition matrix\n",
    "PBB = P[np.ix_(B, B)]\n",
    "\n",
    "# find PBA by selecting a portion of the transition matrix\n",
    "PBA = P[np.ix_(B, A)]\n",
    "\n",
    "# create an identity matrix of the same size as B using the np.eye function\n",
    "I = np.eye(len(B))\n",
    "\n",
    "# calculate the hitting probabilities from states 1, 2, and 3 using I, PBB, and PBA\n",
    "H = np.linalg.inv(I - PBB) @ PBA\n",
    "# print the vector containing the hitting probabilities\n",
    "print(H)"
   ]
  },
  {
   "cell_type": "markdown",
   "id": "f050a332",
   "metadata": {},
   "source": [
    "**Question 4.** (25 points) Write a Python script that finds the pagerank of each node in the following graph:\n",
    "<img src=\"pagerank.png\">\n",
    "\n",
    "The pagerank algorithm is as follows:\n",
    "\n",
    "1. Assume $A=(a_{ij})$ is the adjacency matrix. Set\n",
    "$$\n",
    "m_i = \\sum_{k=1}^N a_{ik}.\n",
    "$$\n",
    "2. Define\n",
    "$$\n",
    "w_{ij} =  \n",
    "\\left\\{\n",
    "\\begin{aligned}\n",
    "& \\frac{a_{ij}}{m_i}  && \\text{ if } m_i > 0, \\\\\n",
    "& \\frac 1 N  && \\text{ if } m_i = 0.\n",
    "\\end{aligned}\n",
    "\\right.\n",
    "$$\n",
    "\n",
    "3. For a restart probability $r $, set the Markov chain transition probabilities by \n",
    "\n",
    "$$\n",
    "p_{ij} = \\frac{r}{N} + (1-r) w_{ij}.\n",
    "$$"
   ]
  },
  {
   "cell_type": "code",
   "execution_count": 88,
   "id": "7ecb157c",
   "metadata": {},
   "outputs": [
    {
     "name": "stdout",
     "output_type": "stream",
     "text": [
      "[[0.08705194]\n",
      " [0.27578639]\n",
      " [0.36137527]\n",
      " [0.27578639]]\n"
     ]
    }
   ],
   "source": [
    "# First create the adjacency matrix for the directed graph\n",
    "A = np.array([[0, 1, 1, 1],\n",
    "              [1, 1, 1, 1],\n",
    "              [0, 1, 0, 1],\n",
    "              [0, 0, 1, 0]])\n",
    "\n",
    "# then initialize the variable N to hold the number of nodes in the digraph\n",
    "N = A.shape[0]\n",
    "\n",
    "# sum over the rows of the adjacency matrix to get the vector m which will be used in the calculation of page ranks\n",
    "m = A.sum(axis = 1)\n",
    "\n",
    "# no dangling nodes, so don't need to check (i.e. none of the row sums are equal to 0)\n",
    "\n",
    "# calculate the matrix w using m and A, making sure to add an axis to m in order to obtain the correct answer\n",
    "w = (1 / (m[:,np.newaxis])) * A\n",
    "\n",
    "# set restart probability equal to 0.1\n",
    "r = 0.1\n",
    "\n",
    "# create the transition matrix P\n",
    "P = (1-r) * w + (r / N)\n",
    "\n",
    "# calculate the eigenvalues and eigenvectors of P transpose\n",
    "e_val, e_vec = np.linalg.eig(P.T)\n",
    "\n",
    "# find the eigenvector which corresponds to the eigenvalue 1\n",
    "v = e_vec[:, abs(e_val-1) < 1e-14]\n",
    "\n",
    "# divide the eigenvector of 1 by its sum to normalize\n",
    "s = v / sum(v)\n",
    "\n",
    "# print the pagerank vector\n",
    "print(s)"
   ]
  }
 ],
 "metadata": {
  "kernelspec": {
   "display_name": "Python 3 (ipykernel)",
   "language": "python",
   "name": "python3"
  },
  "language_info": {
   "codemirror_mode": {
    "name": "ipython",
    "version": 3
   },
   "file_extension": ".py",
   "mimetype": "text/x-python",
   "name": "python",
   "nbconvert_exporter": "python",
   "pygments_lexer": "ipython3",
   "version": "3.11.8"
  }
 },
 "nbformat": 4,
 "nbformat_minor": 5
}
